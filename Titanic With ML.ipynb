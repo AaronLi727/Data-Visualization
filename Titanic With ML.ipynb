{
 "cells": [
  {
   "cell_type": "code",
   "execution_count": 1,
   "metadata": {},
   "outputs": [],
   "source": [
    "import pandas as pd\n",
    "import matplotlib.pyplot as plt\n",
    "import seaborn as sns\n",
    "\n",
    "data_train=pd.read_csv(\"train.csv\")\n",
    "data_test=pd.read_csv(\"test.csv\")"
   ]
  },
  {
   "cell_type": "code",
   "execution_count": 2,
   "metadata": {},
   "outputs": [
    {
     "data": {
      "text/html": [
       "<div>\n",
       "<style scoped>\n",
       "    .dataframe tbody tr th:only-of-type {\n",
       "        vertical-align: middle;\n",
       "    }\n",
       "\n",
       "    .dataframe tbody tr th {\n",
       "        vertical-align: top;\n",
       "    }\n",
       "\n",
       "    .dataframe thead th {\n",
       "        text-align: right;\n",
       "    }\n",
       "</style>\n",
       "<table border=\"1\" class=\"dataframe\">\n",
       "  <thead>\n",
       "    <tr style=\"text-align: right;\">\n",
       "      <th></th>\n",
       "      <th>PassengerId</th>\n",
       "      <th>Survived</th>\n",
       "      <th>Pclass</th>\n",
       "      <th>Name</th>\n",
       "      <th>Sex</th>\n",
       "      <th>Age</th>\n",
       "      <th>SibSp</th>\n",
       "      <th>Parch</th>\n",
       "      <th>Ticket</th>\n",
       "      <th>Fare</th>\n",
       "      <th>Cabin</th>\n",
       "      <th>Embarked</th>\n",
       "    </tr>\n",
       "  </thead>\n",
       "  <tbody>\n",
       "    <tr>\n",
       "      <th>0</th>\n",
       "      <td>1</td>\n",
       "      <td>0</td>\n",
       "      <td>3</td>\n",
       "      <td>Braund, Mr. Owen Harris</td>\n",
       "      <td>male</td>\n",
       "      <td>22.0</td>\n",
       "      <td>1</td>\n",
       "      <td>0</td>\n",
       "      <td>A/5 21171</td>\n",
       "      <td>7.2500</td>\n",
       "      <td>NaN</td>\n",
       "      <td>S</td>\n",
       "    </tr>\n",
       "    <tr>\n",
       "      <th>1</th>\n",
       "      <td>2</td>\n",
       "      <td>1</td>\n",
       "      <td>1</td>\n",
       "      <td>Cumings, Mrs. John Bradley (Florence Briggs Th...</td>\n",
       "      <td>female</td>\n",
       "      <td>38.0</td>\n",
       "      <td>1</td>\n",
       "      <td>0</td>\n",
       "      <td>PC 17599</td>\n",
       "      <td>71.2833</td>\n",
       "      <td>C85</td>\n",
       "      <td>C</td>\n",
       "    </tr>\n",
       "    <tr>\n",
       "      <th>2</th>\n",
       "      <td>3</td>\n",
       "      <td>1</td>\n",
       "      <td>3</td>\n",
       "      <td>Heikkinen, Miss. Laina</td>\n",
       "      <td>female</td>\n",
       "      <td>26.0</td>\n",
       "      <td>0</td>\n",
       "      <td>0</td>\n",
       "      <td>STON/O2. 3101282</td>\n",
       "      <td>7.9250</td>\n",
       "      <td>NaN</td>\n",
       "      <td>S</td>\n",
       "    </tr>\n",
       "    <tr>\n",
       "      <th>3</th>\n",
       "      <td>4</td>\n",
       "      <td>1</td>\n",
       "      <td>1</td>\n",
       "      <td>Futrelle, Mrs. Jacques Heath (Lily May Peel)</td>\n",
       "      <td>female</td>\n",
       "      <td>35.0</td>\n",
       "      <td>1</td>\n",
       "      <td>0</td>\n",
       "      <td>113803</td>\n",
       "      <td>53.1000</td>\n",
       "      <td>C123</td>\n",
       "      <td>S</td>\n",
       "    </tr>\n",
       "    <tr>\n",
       "      <th>4</th>\n",
       "      <td>5</td>\n",
       "      <td>0</td>\n",
       "      <td>3</td>\n",
       "      <td>Allen, Mr. William Henry</td>\n",
       "      <td>male</td>\n",
       "      <td>35.0</td>\n",
       "      <td>0</td>\n",
       "      <td>0</td>\n",
       "      <td>373450</td>\n",
       "      <td>8.0500</td>\n",
       "      <td>NaN</td>\n",
       "      <td>S</td>\n",
       "    </tr>\n",
       "    <tr>\n",
       "      <th>5</th>\n",
       "      <td>6</td>\n",
       "      <td>0</td>\n",
       "      <td>3</td>\n",
       "      <td>Moran, Mr. James</td>\n",
       "      <td>male</td>\n",
       "      <td>NaN</td>\n",
       "      <td>0</td>\n",
       "      <td>0</td>\n",
       "      <td>330877</td>\n",
       "      <td>8.4583</td>\n",
       "      <td>NaN</td>\n",
       "      <td>Q</td>\n",
       "    </tr>\n",
       "    <tr>\n",
       "      <th>6</th>\n",
       "      <td>7</td>\n",
       "      <td>0</td>\n",
       "      <td>1</td>\n",
       "      <td>McCarthy, Mr. Timothy J</td>\n",
       "      <td>male</td>\n",
       "      <td>54.0</td>\n",
       "      <td>0</td>\n",
       "      <td>0</td>\n",
       "      <td>17463</td>\n",
       "      <td>51.8625</td>\n",
       "      <td>E46</td>\n",
       "      <td>S</td>\n",
       "    </tr>\n",
       "    <tr>\n",
       "      <th>7</th>\n",
       "      <td>8</td>\n",
       "      <td>0</td>\n",
       "      <td>3</td>\n",
       "      <td>Palsson, Master. Gosta Leonard</td>\n",
       "      <td>male</td>\n",
       "      <td>2.0</td>\n",
       "      <td>3</td>\n",
       "      <td>1</td>\n",
       "      <td>349909</td>\n",
       "      <td>21.0750</td>\n",
       "      <td>NaN</td>\n",
       "      <td>S</td>\n",
       "    </tr>\n",
       "    <tr>\n",
       "      <th>8</th>\n",
       "      <td>9</td>\n",
       "      <td>1</td>\n",
       "      <td>3</td>\n",
       "      <td>Johnson, Mrs. Oscar W (Elisabeth Vilhelmina Berg)</td>\n",
       "      <td>female</td>\n",
       "      <td>27.0</td>\n",
       "      <td>0</td>\n",
       "      <td>2</td>\n",
       "      <td>347742</td>\n",
       "      <td>11.1333</td>\n",
       "      <td>NaN</td>\n",
       "      <td>S</td>\n",
       "    </tr>\n",
       "    <tr>\n",
       "      <th>9</th>\n",
       "      <td>10</td>\n",
       "      <td>1</td>\n",
       "      <td>2</td>\n",
       "      <td>Nasser, Mrs. Nicholas (Adele Achem)</td>\n",
       "      <td>female</td>\n",
       "      <td>14.0</td>\n",
       "      <td>1</td>\n",
       "      <td>0</td>\n",
       "      <td>237736</td>\n",
       "      <td>30.0708</td>\n",
       "      <td>NaN</td>\n",
       "      <td>C</td>\n",
       "    </tr>\n",
       "  </tbody>\n",
       "</table>\n",
       "</div>"
      ],
      "text/plain": [
       "   PassengerId  Survived  Pclass  \\\n",
       "0            1         0       3   \n",
       "1            2         1       1   \n",
       "2            3         1       3   \n",
       "3            4         1       1   \n",
       "4            5         0       3   \n",
       "5            6         0       3   \n",
       "6            7         0       1   \n",
       "7            8         0       3   \n",
       "8            9         1       3   \n",
       "9           10         1       2   \n",
       "\n",
       "                                                Name     Sex   Age  SibSp  \\\n",
       "0                            Braund, Mr. Owen Harris    male  22.0      1   \n",
       "1  Cumings, Mrs. John Bradley (Florence Briggs Th...  female  38.0      1   \n",
       "2                             Heikkinen, Miss. Laina  female  26.0      0   \n",
       "3       Futrelle, Mrs. Jacques Heath (Lily May Peel)  female  35.0      1   \n",
       "4                           Allen, Mr. William Henry    male  35.0      0   \n",
       "5                                   Moran, Mr. James    male   NaN      0   \n",
       "6                            McCarthy, Mr. Timothy J    male  54.0      0   \n",
       "7                     Palsson, Master. Gosta Leonard    male   2.0      3   \n",
       "8  Johnson, Mrs. Oscar W (Elisabeth Vilhelmina Berg)  female  27.0      0   \n",
       "9                Nasser, Mrs. Nicholas (Adele Achem)  female  14.0      1   \n",
       "\n",
       "   Parch            Ticket     Fare Cabin Embarked  \n",
       "0      0         A/5 21171   7.2500   NaN        S  \n",
       "1      0          PC 17599  71.2833   C85        C  \n",
       "2      0  STON/O2. 3101282   7.9250   NaN        S  \n",
       "3      0            113803  53.1000  C123        S  \n",
       "4      0            373450   8.0500   NaN        S  \n",
       "5      0            330877   8.4583   NaN        Q  \n",
       "6      0             17463  51.8625   E46        S  \n",
       "7      1            349909  21.0750   NaN        S  \n",
       "8      2            347742  11.1333   NaN        S  \n",
       "9      0            237736  30.0708   NaN        C  "
      ]
     },
     "execution_count": 2,
     "metadata": {},
     "output_type": "execute_result"
    }
   ],
   "source": [
    "data_train.head(10)"
   ]
  },
  {
   "cell_type": "code",
   "execution_count": 3,
   "metadata": {},
   "outputs": [
    {
     "data": {
      "text/plain": [
       "(891, 12)"
      ]
     },
     "execution_count": 3,
     "metadata": {},
     "output_type": "execute_result"
    }
   ],
   "source": [
    "data_train.shape"
   ]
  },
  {
   "cell_type": "code",
   "execution_count": 4,
   "metadata": {},
   "outputs": [
    {
     "data": {
      "text/plain": [
       "PassengerId    891\n",
       "Survived       891\n",
       "Pclass         891\n",
       "Name           891\n",
       "Sex            891\n",
       "Age            714\n",
       "SibSp          891\n",
       "Parch          891\n",
       "Ticket         891\n",
       "Fare           891\n",
       "Cabin          204\n",
       "Embarked       889\n",
       "dtype: int64"
      ]
     },
     "execution_count": 4,
     "metadata": {},
     "output_type": "execute_result"
    }
   ],
   "source": [
    "data_train.count()"
   ]
  },
  {
   "cell_type": "code",
   "execution_count": 5,
   "metadata": {},
   "outputs": [
    {
     "data": {
      "text/plain": [
       "Text(0.5, 1.0, 'Survived Percentage')"
      ]
     },
     "execution_count": 5,
     "metadata": {},
     "output_type": "execute_result"
    },
    {
     "data": {
      "image/png": "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\n",
      "text/plain": [
       "<Figure size 432x288 with 1 Axes>"
      ]
     },
     "metadata": {
      "needs_background": "light"
     },
     "output_type": "display_data"
    }
   ],
   "source": [
    "data_train.Survived.value_counts(normalize=True).plot.bar()\n",
    "plt.title(\"Survived Percentage\")"
   ]
  },
  {
   "cell_type": "code",
   "execution_count": 6,
   "metadata": {},
   "outputs": [
    {
     "data": {
      "image/png": "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\n",
      "text/plain": [
       "<Figure size 432x288 with 1 Axes>"
      ]
     },
     "metadata": {
      "needs_background": "light"
     },
     "output_type": "display_data"
    }
   ],
   "source": [
    "sns.barplot(x=\"Sex\",y=\"Survived\",data=data_train);"
   ]
  },
  {
   "cell_type": "code",
   "execution_count": 7,
   "metadata": {},
   "outputs": [
    {
     "data": {
      "text/plain": [
       "Text(0.5, 1.0, 'Survival regards to Class')"
      ]
     },
     "execution_count": 7,
     "metadata": {},
     "output_type": "execute_result"
    },
    {
     "data": {
      "image/png": "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\n",
      "text/plain": [
       "<Figure size 432x288 with 1 Axes>"
      ]
     },
     "metadata": {
      "needs_background": "light"
     },
     "output_type": "display_data"
    }
   ],
   "source": [
    "data_train.Pclass.value_counts(normalize=True).plot.bar()\n",
    "plt.title(\"Survival regards to Class\")"
   ]
  },
  {
   "cell_type": "code",
   "execution_count": 8,
   "metadata": {},
   "outputs": [
    {
     "data": {
      "image/png": "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\n",
      "text/plain": [
       "<Figure size 432x288 with 1 Axes>"
      ]
     },
     "metadata": {
      "needs_background": "light"
     },
     "output_type": "display_data"
    }
   ],
   "source": [
    "sns.barplot(x=\"Pclass\", y=\"Survived\", hue= \"Sex\",data=data_train);"
   ]
  },
  {
   "cell_type": "code",
   "execution_count": 9,
   "metadata": {},
   "outputs": [
    {
     "data": {
      "text/plain": [
       "count    714.000000\n",
       "mean      29.699118\n",
       "std       14.526497\n",
       "min        0.420000\n",
       "25%       20.125000\n",
       "50%       28.000000\n",
       "75%       38.000000\n",
       "max       80.000000\n",
       "Name: Age, dtype: float64"
      ]
     },
     "execution_count": 9,
     "metadata": {},
     "output_type": "execute_result"
    }
   ],
   "source": [
    "data_train['Age'].describe()"
   ]
  },
  {
   "cell_type": "code",
   "execution_count": 10,
   "metadata": {},
   "outputs": [
    {
     "data": {
      "image/png": "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\n",
      "text/plain": [
       "<Figure size 432x288 with 1 Axes>"
      ]
     },
     "metadata": {
      "needs_background": "light"
     },
     "output_type": "display_data"
    }
   ],
   "source": [
    "sns.pointplot(x=\"Pclass\", y= \"Age\", hue=\"Sex\", data=data_train,\n",
    "             palette = {\"male\" : \"blue\", \"female\": \"red\"},\n",
    "             markers = ['o','*'], linestyles= ['-','--']);"
   ]
  },
  {
   "cell_type": "code",
   "execution_count": 11,
   "metadata": {},
   "outputs": [
    {
     "data": {
      "text/html": [
       "<div>\n",
       "<style scoped>\n",
       "    .dataframe tbody tr th:only-of-type {\n",
       "        vertical-align: middle;\n",
       "    }\n",
       "\n",
       "    .dataframe tbody tr th {\n",
       "        vertical-align: top;\n",
       "    }\n",
       "\n",
       "    .dataframe thead th {\n",
       "        text-align: right;\n",
       "    }\n",
       "</style>\n",
       "<table border=\"1\" class=\"dataframe\">\n",
       "  <thead>\n",
       "    <tr style=\"text-align: right;\">\n",
       "      <th></th>\n",
       "      <th>PassengerId</th>\n",
       "      <th>Survived</th>\n",
       "      <th>Pclass</th>\n",
       "      <th>Name</th>\n",
       "      <th>Sex</th>\n",
       "      <th>Age</th>\n",
       "      <th>SibSp</th>\n",
       "      <th>Parch</th>\n",
       "      <th>Ticket</th>\n",
       "      <th>Fare</th>\n",
       "      <th>Cabin</th>\n",
       "      <th>Embarked</th>\n",
       "      <th>Age_categories</th>\n",
       "    </tr>\n",
       "  </thead>\n",
       "  <tbody>\n",
       "    <tr>\n",
       "      <th>0</th>\n",
       "      <td>1</td>\n",
       "      <td>0</td>\n",
       "      <td>3</td>\n",
       "      <td>Braund, Mr. Owen Harris</td>\n",
       "      <td>male</td>\n",
       "      <td>22.0</td>\n",
       "      <td>1</td>\n",
       "      <td>0</td>\n",
       "      <td>A/5 21171</td>\n",
       "      <td>7.2500</td>\n",
       "      <td>NaN</td>\n",
       "      <td>S</td>\n",
       "      <td>Y. Adult</td>\n",
       "    </tr>\n",
       "    <tr>\n",
       "      <th>1</th>\n",
       "      <td>2</td>\n",
       "      <td>1</td>\n",
       "      <td>1</td>\n",
       "      <td>Cumings, Mrs. John Bradley (Florence Briggs Th...</td>\n",
       "      <td>female</td>\n",
       "      <td>38.0</td>\n",
       "      <td>1</td>\n",
       "      <td>0</td>\n",
       "      <td>PC 17599</td>\n",
       "      <td>71.2833</td>\n",
       "      <td>C85</td>\n",
       "      <td>C</td>\n",
       "      <td>Adult</td>\n",
       "    </tr>\n",
       "    <tr>\n",
       "      <th>2</th>\n",
       "      <td>3</td>\n",
       "      <td>1</td>\n",
       "      <td>3</td>\n",
       "      <td>Heikkinen, Miss. Laina</td>\n",
       "      <td>female</td>\n",
       "      <td>26.0</td>\n",
       "      <td>0</td>\n",
       "      <td>0</td>\n",
       "      <td>STON/O2. 3101282</td>\n",
       "      <td>7.9250</td>\n",
       "      <td>NaN</td>\n",
       "      <td>S</td>\n",
       "      <td>Y. Adult</td>\n",
       "    </tr>\n",
       "    <tr>\n",
       "      <th>3</th>\n",
       "      <td>4</td>\n",
       "      <td>1</td>\n",
       "      <td>1</td>\n",
       "      <td>Futrelle, Mrs. Jacques Heath (Lily May Peel)</td>\n",
       "      <td>female</td>\n",
       "      <td>35.0</td>\n",
       "      <td>1</td>\n",
       "      <td>0</td>\n",
       "      <td>113803</td>\n",
       "      <td>53.1000</td>\n",
       "      <td>C123</td>\n",
       "      <td>S</td>\n",
       "      <td>Y. Adult</td>\n",
       "    </tr>\n",
       "    <tr>\n",
       "      <th>4</th>\n",
       "      <td>5</td>\n",
       "      <td>0</td>\n",
       "      <td>3</td>\n",
       "      <td>Allen, Mr. William Henry</td>\n",
       "      <td>male</td>\n",
       "      <td>35.0</td>\n",
       "      <td>0</td>\n",
       "      <td>0</td>\n",
       "      <td>373450</td>\n",
       "      <td>8.0500</td>\n",
       "      <td>NaN</td>\n",
       "      <td>S</td>\n",
       "      <td>Y. Adult</td>\n",
       "    </tr>\n",
       "  </tbody>\n",
       "</table>\n",
       "</div>"
      ],
      "text/plain": [
       "   PassengerId  Survived  Pclass  \\\n",
       "0            1         0       3   \n",
       "1            2         1       1   \n",
       "2            3         1       3   \n",
       "3            4         1       1   \n",
       "4            5         0       3   \n",
       "\n",
       "                                                Name     Sex   Age  SibSp  \\\n",
       "0                            Braund, Mr. Owen Harris    male  22.0      1   \n",
       "1  Cumings, Mrs. John Bradley (Florence Briggs Th...  female  38.0      1   \n",
       "2                             Heikkinen, Miss. Laina  female  26.0      0   \n",
       "3       Futrelle, Mrs. Jacques Heath (Lily May Peel)  female  35.0      1   \n",
       "4                           Allen, Mr. William Henry    male  35.0      0   \n",
       "\n",
       "   Parch            Ticket     Fare Cabin Embarked Age_categories  \n",
       "0      0         A/5 21171   7.2500   NaN        S       Y. Adult  \n",
       "1      0          PC 17599  71.2833   C85        C          Adult  \n",
       "2      0  STON/O2. 3101282   7.9250   NaN        S       Y. Adult  \n",
       "3      0            113803  53.1000  C123        S       Y. Adult  \n",
       "4      0            373450   8.0500   NaN        S       Y. Adult  "
      ]
     },
     "execution_count": 11,
     "metadata": {},
     "output_type": "execute_result"
    }
   ],
   "source": [
    "def name_ages(df, sections, group_names):\n",
    "    df.Age = df.Age.fillna(-0.5)\n",
    "    df[\"Age_categories\"] = pd.cut(df.Age, sections, labels=group_names)\n",
    "    return df\n",
    "    \n",
    "sections = (-1, 0, 5, 12, 18, 21, 35, 60, 120)\n",
    "group_names = ['Missing', 'Infant', 'Child', 'Teen', 'College', 'Y. Adult', 'Adult', 'Senior']\n",
    "\n",
    "\n",
    "train=name_ages(data_train,sections,group_names)\n",
    "test=name_ages(data_test,sections,group_names)\n",
    "data_train.head()"
   ]
  },
  {
   "cell_type": "code",
   "execution_count": 12,
   "metadata": {},
   "outputs": [
    {
     "data": {
      "image/png": "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\n",
      "text/plain": [
       "<Figure size 432x288 with 1 Axes>"
      ]
     },
     "metadata": {
      "needs_background": "light"
     },
     "output_type": "display_data"
    }
   ],
   "source": [
    "sns.barplot(x=\"Age_categories\", y=\"Survived\", hue=\"Sex\", data=train);"
   ]
  },
  {
   "cell_type": "code",
   "execution_count": 13,
   "metadata": {},
   "outputs": [
    {
     "data": {
      "text/plain": [
       "3    491\n",
       "1    216\n",
       "2    184\n",
       "Name: Pclass, dtype: int64"
      ]
     },
     "execution_count": 13,
     "metadata": {},
     "output_type": "execute_result"
    }
   ],
   "source": [
    "data_train['Pclass'].value_counts()"
   ]
  },
  {
   "cell_type": "code",
   "execution_count": 14,
   "metadata": {},
   "outputs": [
    {
     "data": {
      "text/html": [
       "<div>\n",
       "<style scoped>\n",
       "    .dataframe tbody tr th:only-of-type {\n",
       "        vertical-align: middle;\n",
       "    }\n",
       "\n",
       "    .dataframe tbody tr th {\n",
       "        vertical-align: top;\n",
       "    }\n",
       "\n",
       "    .dataframe thead th {\n",
       "        text-align: right;\n",
       "    }\n",
       "</style>\n",
       "<table border=\"1\" class=\"dataframe\">\n",
       "  <thead>\n",
       "    <tr style=\"text-align: right;\">\n",
       "      <th></th>\n",
       "      <th>Pclass_1</th>\n",
       "      <th>Pclass_2</th>\n",
       "      <th>Pclass_3</th>\n",
       "    </tr>\n",
       "  </thead>\n",
       "  <tbody>\n",
       "    <tr>\n",
       "      <th>0</th>\n",
       "      <td>0</td>\n",
       "      <td>0</td>\n",
       "      <td>1</td>\n",
       "    </tr>\n",
       "    <tr>\n",
       "      <th>1</th>\n",
       "      <td>1</td>\n",
       "      <td>0</td>\n",
       "      <td>0</td>\n",
       "    </tr>\n",
       "    <tr>\n",
       "      <th>2</th>\n",
       "      <td>0</td>\n",
       "      <td>0</td>\n",
       "      <td>1</td>\n",
       "    </tr>\n",
       "    <tr>\n",
       "      <th>3</th>\n",
       "      <td>1</td>\n",
       "      <td>0</td>\n",
       "      <td>0</td>\n",
       "    </tr>\n",
       "    <tr>\n",
       "      <th>4</th>\n",
       "      <td>0</td>\n",
       "      <td>0</td>\n",
       "      <td>1</td>\n",
       "    </tr>\n",
       "  </tbody>\n",
       "</table>\n",
       "</div>"
      ],
      "text/plain": [
       "   Pclass_1  Pclass_2  Pclass_3\n",
       "0         0         0         1\n",
       "1         1         0         0\n",
       "2         0         0         1\n",
       "3         1         0         0\n",
       "4         0         0         1"
      ]
     },
     "execution_count": 14,
     "metadata": {},
     "output_type": "execute_result"
    }
   ],
   "source": [
    "class_name = 'Pclass'\n",
    "df = data_train\n",
    "dummies = pd.get_dummies(df[class_name],prefix=class_name)\n",
    "dummies.head()"
   ]
  },
  {
   "cell_type": "code",
   "execution_count": 15,
   "metadata": {},
   "outputs": [
    {
     "data": {
      "text/html": [
       "<div>\n",
       "<style scoped>\n",
       "    .dataframe tbody tr th:only-of-type {\n",
       "        vertical-align: middle;\n",
       "    }\n",
       "\n",
       "    .dataframe tbody tr th {\n",
       "        vertical-align: top;\n",
       "    }\n",
       "\n",
       "    .dataframe thead th {\n",
       "        text-align: right;\n",
       "    }\n",
       "</style>\n",
       "<table border=\"1\" class=\"dataframe\">\n",
       "  <thead>\n",
       "    <tr style=\"text-align: right;\">\n",
       "      <th></th>\n",
       "      <th>PassengerId</th>\n",
       "      <th>Survived</th>\n",
       "      <th>Pclass</th>\n",
       "      <th>Name</th>\n",
       "      <th>Sex</th>\n",
       "      <th>Age</th>\n",
       "      <th>SibSp</th>\n",
       "      <th>Parch</th>\n",
       "      <th>Ticket</th>\n",
       "      <th>Fare</th>\n",
       "      <th>Cabin</th>\n",
       "      <th>Embarked</th>\n",
       "      <th>Age_categories</th>\n",
       "      <th>Pclass_1</th>\n",
       "      <th>Pclass_2</th>\n",
       "      <th>Pclass_3</th>\n",
       "    </tr>\n",
       "  </thead>\n",
       "  <tbody>\n",
       "    <tr>\n",
       "      <th>0</th>\n",
       "      <td>1</td>\n",
       "      <td>0</td>\n",
       "      <td>3</td>\n",
       "      <td>Braund, Mr. Owen Harris</td>\n",
       "      <td>male</td>\n",
       "      <td>22.0</td>\n",
       "      <td>1</td>\n",
       "      <td>0</td>\n",
       "      <td>A/5 21171</td>\n",
       "      <td>7.2500</td>\n",
       "      <td>NaN</td>\n",
       "      <td>S</td>\n",
       "      <td>Y. Adult</td>\n",
       "      <td>0</td>\n",
       "      <td>0</td>\n",
       "      <td>1</td>\n",
       "    </tr>\n",
       "    <tr>\n",
       "      <th>1</th>\n",
       "      <td>2</td>\n",
       "      <td>1</td>\n",
       "      <td>1</td>\n",
       "      <td>Cumings, Mrs. John Bradley (Florence Briggs Th...</td>\n",
       "      <td>female</td>\n",
       "      <td>38.0</td>\n",
       "      <td>1</td>\n",
       "      <td>0</td>\n",
       "      <td>PC 17599</td>\n",
       "      <td>71.2833</td>\n",
       "      <td>C85</td>\n",
       "      <td>C</td>\n",
       "      <td>Adult</td>\n",
       "      <td>1</td>\n",
       "      <td>0</td>\n",
       "      <td>0</td>\n",
       "    </tr>\n",
       "    <tr>\n",
       "      <th>2</th>\n",
       "      <td>3</td>\n",
       "      <td>1</td>\n",
       "      <td>3</td>\n",
       "      <td>Heikkinen, Miss. Laina</td>\n",
       "      <td>female</td>\n",
       "      <td>26.0</td>\n",
       "      <td>0</td>\n",
       "      <td>0</td>\n",
       "      <td>STON/O2. 3101282</td>\n",
       "      <td>7.9250</td>\n",
       "      <td>NaN</td>\n",
       "      <td>S</td>\n",
       "      <td>Y. Adult</td>\n",
       "      <td>0</td>\n",
       "      <td>0</td>\n",
       "      <td>1</td>\n",
       "    </tr>\n",
       "    <tr>\n",
       "      <th>3</th>\n",
       "      <td>4</td>\n",
       "      <td>1</td>\n",
       "      <td>1</td>\n",
       "      <td>Futrelle, Mrs. Jacques Heath (Lily May Peel)</td>\n",
       "      <td>female</td>\n",
       "      <td>35.0</td>\n",
       "      <td>1</td>\n",
       "      <td>0</td>\n",
       "      <td>113803</td>\n",
       "      <td>53.1000</td>\n",
       "      <td>C123</td>\n",
       "      <td>S</td>\n",
       "      <td>Y. Adult</td>\n",
       "      <td>1</td>\n",
       "      <td>0</td>\n",
       "      <td>0</td>\n",
       "    </tr>\n",
       "    <tr>\n",
       "      <th>4</th>\n",
       "      <td>5</td>\n",
       "      <td>0</td>\n",
       "      <td>3</td>\n",
       "      <td>Allen, Mr. William Henry</td>\n",
       "      <td>male</td>\n",
       "      <td>35.0</td>\n",
       "      <td>0</td>\n",
       "      <td>0</td>\n",
       "      <td>373450</td>\n",
       "      <td>8.0500</td>\n",
       "      <td>NaN</td>\n",
       "      <td>S</td>\n",
       "      <td>Y. Adult</td>\n",
       "      <td>0</td>\n",
       "      <td>0</td>\n",
       "      <td>1</td>\n",
       "    </tr>\n",
       "  </tbody>\n",
       "</table>\n",
       "</div>"
      ],
      "text/plain": [
       "   PassengerId  Survived  Pclass  \\\n",
       "0            1         0       3   \n",
       "1            2         1       1   \n",
       "2            3         1       3   \n",
       "3            4         1       1   \n",
       "4            5         0       3   \n",
       "\n",
       "                                                Name     Sex   Age  SibSp  \\\n",
       "0                            Braund, Mr. Owen Harris    male  22.0      1   \n",
       "1  Cumings, Mrs. John Bradley (Florence Briggs Th...  female  38.0      1   \n",
       "2                             Heikkinen, Miss. Laina  female  26.0      0   \n",
       "3       Futrelle, Mrs. Jacques Heath (Lily May Peel)  female  35.0      1   \n",
       "4                           Allen, Mr. William Henry    male  35.0      0   \n",
       "\n",
       "   Parch            Ticket     Fare Cabin Embarked Age_categories  Pclass_1  \\\n",
       "0      0         A/5 21171   7.2500   NaN        S       Y. Adult         0   \n",
       "1      0          PC 17599  71.2833   C85        C          Adult         1   \n",
       "2      0  STON/O2. 3101282   7.9250   NaN        S       Y. Adult         0   \n",
       "3      0            113803  53.1000  C123        S       Y. Adult         1   \n",
       "4      0            373450   8.0500   NaN        S       Y. Adult         0   \n",
       "\n",
       "   Pclass_2  Pclass_3  \n",
       "0         0         1  \n",
       "1         0         0  \n",
       "2         0         1  \n",
       "3         0         0  \n",
       "4         0         1  "
      ]
     },
     "execution_count": 15,
     "metadata": {},
     "output_type": "execute_result"
    }
   ],
   "source": [
    "def create_dummies(df,class_name):\n",
    "    dummies = pd.get_dummies(df[class_name], prefix=class_name)\n",
    "    df=pd.concat([df,dummies],axis=1)\n",
    "    return df\n",
    "train=create_dummies(data_train,\"Pclass\")\n",
    "test=create_dummies(data_train,\"Pclass\")\n",
    "train.head()"
   ]
  },
  {
   "cell_type": "code",
   "execution_count": 16,
   "metadata": {},
   "outputs": [
    {
     "data": {
      "text/html": [
       "<div>\n",
       "<style scoped>\n",
       "    .dataframe tbody tr th:only-of-type {\n",
       "        vertical-align: middle;\n",
       "    }\n",
       "\n",
       "    .dataframe tbody tr th {\n",
       "        vertical-align: top;\n",
       "    }\n",
       "\n",
       "    .dataframe thead th {\n",
       "        text-align: right;\n",
       "    }\n",
       "</style>\n",
       "<table border=\"1\" class=\"dataframe\">\n",
       "  <thead>\n",
       "    <tr style=\"text-align: right;\">\n",
       "      <th></th>\n",
       "      <th>PassengerId</th>\n",
       "      <th>Survived</th>\n",
       "      <th>Pclass</th>\n",
       "      <th>Name</th>\n",
       "      <th>Sex</th>\n",
       "      <th>Age</th>\n",
       "      <th>SibSp</th>\n",
       "      <th>Parch</th>\n",
       "      <th>Ticket</th>\n",
       "      <th>Fare</th>\n",
       "      <th>...</th>\n",
       "      <th>Sex_female</th>\n",
       "      <th>Sex_male</th>\n",
       "      <th>Age_categories_Missing</th>\n",
       "      <th>Age_categories_Infant</th>\n",
       "      <th>Age_categories_Child</th>\n",
       "      <th>Age_categories_Teen</th>\n",
       "      <th>Age_categories_College</th>\n",
       "      <th>Age_categories_Y. Adult</th>\n",
       "      <th>Age_categories_Adult</th>\n",
       "      <th>Age_categories_Senior</th>\n",
       "    </tr>\n",
       "  </thead>\n",
       "  <tbody>\n",
       "    <tr>\n",
       "      <th>0</th>\n",
       "      <td>1</td>\n",
       "      <td>0</td>\n",
       "      <td>3</td>\n",
       "      <td>Braund, Mr. Owen Harris</td>\n",
       "      <td>male</td>\n",
       "      <td>22.0</td>\n",
       "      <td>1</td>\n",
       "      <td>0</td>\n",
       "      <td>A/5 21171</td>\n",
       "      <td>7.2500</td>\n",
       "      <td>...</td>\n",
       "      <td>0</td>\n",
       "      <td>1</td>\n",
       "      <td>0</td>\n",
       "      <td>0</td>\n",
       "      <td>0</td>\n",
       "      <td>0</td>\n",
       "      <td>0</td>\n",
       "      <td>1</td>\n",
       "      <td>0</td>\n",
       "      <td>0</td>\n",
       "    </tr>\n",
       "    <tr>\n",
       "      <th>1</th>\n",
       "      <td>2</td>\n",
       "      <td>1</td>\n",
       "      <td>1</td>\n",
       "      <td>Cumings, Mrs. John Bradley (Florence Briggs Th...</td>\n",
       "      <td>female</td>\n",
       "      <td>38.0</td>\n",
       "      <td>1</td>\n",
       "      <td>0</td>\n",
       "      <td>PC 17599</td>\n",
       "      <td>71.2833</td>\n",
       "      <td>...</td>\n",
       "      <td>1</td>\n",
       "      <td>0</td>\n",
       "      <td>0</td>\n",
       "      <td>0</td>\n",
       "      <td>0</td>\n",
       "      <td>0</td>\n",
       "      <td>0</td>\n",
       "      <td>0</td>\n",
       "      <td>1</td>\n",
       "      <td>0</td>\n",
       "    </tr>\n",
       "    <tr>\n",
       "      <th>2</th>\n",
       "      <td>3</td>\n",
       "      <td>1</td>\n",
       "      <td>3</td>\n",
       "      <td>Heikkinen, Miss. Laina</td>\n",
       "      <td>female</td>\n",
       "      <td>26.0</td>\n",
       "      <td>0</td>\n",
       "      <td>0</td>\n",
       "      <td>STON/O2. 3101282</td>\n",
       "      <td>7.9250</td>\n",
       "      <td>...</td>\n",
       "      <td>1</td>\n",
       "      <td>0</td>\n",
       "      <td>0</td>\n",
       "      <td>0</td>\n",
       "      <td>0</td>\n",
       "      <td>0</td>\n",
       "      <td>0</td>\n",
       "      <td>1</td>\n",
       "      <td>0</td>\n",
       "      <td>0</td>\n",
       "    </tr>\n",
       "    <tr>\n",
       "      <th>3</th>\n",
       "      <td>4</td>\n",
       "      <td>1</td>\n",
       "      <td>1</td>\n",
       "      <td>Futrelle, Mrs. Jacques Heath (Lily May Peel)</td>\n",
       "      <td>female</td>\n",
       "      <td>35.0</td>\n",
       "      <td>1</td>\n",
       "      <td>0</td>\n",
       "      <td>113803</td>\n",
       "      <td>53.1000</td>\n",
       "      <td>...</td>\n",
       "      <td>1</td>\n",
       "      <td>0</td>\n",
       "      <td>0</td>\n",
       "      <td>0</td>\n",
       "      <td>0</td>\n",
       "      <td>0</td>\n",
       "      <td>0</td>\n",
       "      <td>1</td>\n",
       "      <td>0</td>\n",
       "      <td>0</td>\n",
       "    </tr>\n",
       "    <tr>\n",
       "      <th>4</th>\n",
       "      <td>5</td>\n",
       "      <td>0</td>\n",
       "      <td>3</td>\n",
       "      <td>Allen, Mr. William Henry</td>\n",
       "      <td>male</td>\n",
       "      <td>35.0</td>\n",
       "      <td>0</td>\n",
       "      <td>0</td>\n",
       "      <td>373450</td>\n",
       "      <td>8.0500</td>\n",
       "      <td>...</td>\n",
       "      <td>0</td>\n",
       "      <td>1</td>\n",
       "      <td>0</td>\n",
       "      <td>0</td>\n",
       "      <td>0</td>\n",
       "      <td>0</td>\n",
       "      <td>0</td>\n",
       "      <td>1</td>\n",
       "      <td>0</td>\n",
       "      <td>0</td>\n",
       "    </tr>\n",
       "  </tbody>\n",
       "</table>\n",
       "<p>5 rows × 26 columns</p>\n",
       "</div>"
      ],
      "text/plain": [
       "   PassengerId  Survived  Pclass  \\\n",
       "0            1         0       3   \n",
       "1            2         1       1   \n",
       "2            3         1       3   \n",
       "3            4         1       1   \n",
       "4            5         0       3   \n",
       "\n",
       "                                                Name     Sex   Age  SibSp  \\\n",
       "0                            Braund, Mr. Owen Harris    male  22.0      1   \n",
       "1  Cumings, Mrs. John Bradley (Florence Briggs Th...  female  38.0      1   \n",
       "2                             Heikkinen, Miss. Laina  female  26.0      0   \n",
       "3       Futrelle, Mrs. Jacques Heath (Lily May Peel)  female  35.0      1   \n",
       "4                           Allen, Mr. William Henry    male  35.0      0   \n",
       "\n",
       "   Parch            Ticket     Fare          ...           Sex_female  \\\n",
       "0      0         A/5 21171   7.2500          ...                    0   \n",
       "1      0          PC 17599  71.2833          ...                    1   \n",
       "2      0  STON/O2. 3101282   7.9250          ...                    1   \n",
       "3      0            113803  53.1000          ...                    1   \n",
       "4      0            373450   8.0500          ...                    0   \n",
       "\n",
       "  Sex_male Age_categories_Missing  Age_categories_Infant  \\\n",
       "0        1                      0                      0   \n",
       "1        0                      0                      0   \n",
       "2        0                      0                      0   \n",
       "3        0                      0                      0   \n",
       "4        1                      0                      0   \n",
       "\n",
       "   Age_categories_Child  Age_categories_Teen  Age_categories_College  \\\n",
       "0                     0                    0                       0   \n",
       "1                     0                    0                       0   \n",
       "2                     0                    0                       0   \n",
       "3                     0                    0                       0   \n",
       "4                     0                    0                       0   \n",
       "\n",
       "   Age_categories_Y. Adult  Age_categories_Adult  Age_categories_Senior  \n",
       "0                        1                     0                      0  \n",
       "1                        0                     1                      0  \n",
       "2                        1                     0                      0  \n",
       "3                        1                     0                      0  \n",
       "4                        1                     0                      0  \n",
       "\n",
       "[5 rows x 26 columns]"
      ]
     },
     "execution_count": 16,
     "metadata": {},
     "output_type": "execute_result"
    }
   ],
   "source": [
    "train = create_dummies(train,\"Sex\")\n",
    "test = create_dummies(test,\"Sex\")\n",
    "train = create_dummies(train,\"Age_categories\")\n",
    "test = create_dummies(test,\"Age_categories\")\n",
    "train.head()"
   ]
  },
  {
   "cell_type": "code",
   "execution_count": 17,
   "metadata": {},
   "outputs": [],
   "source": [
    "from sklearn.linear_model import LogisticRegression"
   ]
  },
  {
   "cell_type": "code",
   "execution_count": 18,
   "metadata": {},
   "outputs": [
    {
     "name": "stderr",
     "output_type": "stream",
     "text": [
      "/anaconda3/lib/python3.7/site-packages/sklearn/linear_model/logistic.py:433: FutureWarning: Default solver will be changed to 'lbfgs' in 0.22. Specify a solver to silence this warning.\n",
      "  FutureWarning)\n"
     ]
    },
    {
     "data": {
      "text/plain": [
       "LogisticRegression(C=1.0, class_weight=None, dual=False, fit_intercept=True,\n",
       "          intercept_scaling=1, max_iter=100, multi_class='warn',\n",
       "          n_jobs=None, penalty='l2', random_state=None, solver='warn',\n",
       "          tol=0.0001, verbose=0, warm_start=False)"
      ]
     },
     "execution_count": 18,
     "metadata": {},
     "output_type": "execute_result"
    }
   ],
   "source": [
    "lr = LogisticRegression()\n",
    "columns = ['Pclass_1','Pclass_2','Pclass_3','Sex_female','Sex_male',\n",
    "           'Age_categories_Missing','Age_categories_Infant',\n",
    "           'Age_categories_Child','Age_categories_Teen',\n",
    "           'Age_categories_College','Age_categories_Y. Adult',\n",
    "           'Age_categories_Adult','Age_categories_Senior']\n",
    "lr.fit(train[columns], train['Survived'])"
   ]
  },
  {
   "cell_type": "code",
   "execution_count": 19,
   "metadata": {},
   "outputs": [],
   "source": [
    "from sklearn.model_selection import train_test_split\n",
    "columns = ['Pclass_1','Pclass_2','Pclass_3','Sex_female','Sex_male',\n",
    "           'Age_categories_Missing','Age_categories_Infant',\n",
    "           'Age_categories_Child','Age_categories_Teen',\n",
    "           'Age_categories_College','Age_categories_Y. Adult',\n",
    "           'Age_categories_Adult','Age_categories_Senior']\n",
    "all_x=train[columns]\n",
    "all_y=train['Survived']\n",
    "train_x, test_x, train_y,test_y = train_test_split(all_x, all_y, \n",
    "test_size=0.2, random_state=0)"
   ]
  },
  {
   "cell_type": "code",
   "execution_count": 20,
   "metadata": {},
   "outputs": [
    {
     "data": {
      "text/plain": [
       "(712, 13)"
      ]
     },
     "execution_count": 20,
     "metadata": {},
     "output_type": "execute_result"
    }
   ],
   "source": [
    "train_x.shape"
   ]
  },
  {
   "cell_type": "code",
   "execution_count": 21,
   "metadata": {},
   "outputs": [],
   "source": [
    "from sklearn.metrics import accuracy_score"
   ]
  },
  {
   "cell_type": "code",
   "execution_count": 22,
   "metadata": {},
   "outputs": [
   
    {
     "data": {
      "text/plain": [
       "0.8100558659217877"
      ]
     },
     "execution_count": 22,
     "metadata": {},
     "output_type": "execute_result"
    }
   ],
   "source": [
    "lr=LogisticRegression()\n",
    "lr.fit(train_x,train_y)\n",
    "predictions = lr.predict(test_x)\n",
    "accuracy = accuracy_score(test_y, predictions)\n",
    "accuracy"
   ]
  },
  {
   "cell_type": "code",
   "execution_count": 23,
   "metadata": {},
   "outputs": [
    {
     "data": {
      "text/html": [
       "<div>\n",
       "<style scoped>\n",
       "    .dataframe tbody tr th:only-of-type {\n",
       "        vertical-align: middle;\n",
       "    }\n",
       "\n",
       "    .dataframe tbody tr th {\n",
       "        vertical-align: top;\n",
       "    }\n",
       "\n",
       "    .dataframe thead th {\n",
       "        text-align: right;\n",
       "    }\n",
       "</style>\n",
       "<table border=\"1\" class=\"dataframe\">\n",
       "  <thead>\n",
       "    <tr style=\"text-align: right;\">\n",
       "      <th></th>\n",
       "      <th>Survived</th>\n",
       "      <th>Dead</th>\n",
       "    </tr>\n",
       "  </thead>\n",
       "  <tbody>\n",
       "    <tr>\n",
       "      <th>Survived</th>\n",
       "      <td>96</td>\n",
       "      <td>14</td>\n",
       "    </tr>\n",
       "    <tr>\n",
       "      <th>Dead</th>\n",
       "      <td>20</td>\n",
       "      <td>49</td>\n",
       "    </tr>\n",
       "  </tbody>\n",
       "</table>\n",
       "</div>"
      ],
      "text/plain": [
       "          Survived  Dead\n",
       "Survived        96    14\n",
       "Dead            20    49"
      ]
     },
     

 "metadata": {
  "kernelspec": {
   "display_name": "Python 3",
   "language": "python",
   "name": "python3"
  },
  "language_info": {
   "codemirror_mode": {
    "name": "ipython",
    "version": 3
   },
   "file_extension": ".py",
   "mimetype": "text/x-python",
   "name": "python",
   "nbconvert_exporter": "python",
   "pygments_lexer": "ipython3",
   "version": "3.7.1"
  }
 },
 "nbformat": 4,
 "nbformat_minor": 2
}
